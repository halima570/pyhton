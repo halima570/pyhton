{
 "cells": [
  {
   "cell_type": "code",
   "execution_count": 4,
   "id": "e4a4884c",
   "metadata": {},
   "outputs": [
    {
     "name": "stdout",
     "output_type": "stream",
     "text": [
      "3\n"
     ]
    }
   ],
   "source": []
  },
  {
   "cell_type": "code",
   "execution_count": null,
   "id": "a89901c3",
   "metadata": {},
   "outputs": [],
   "source": []
  },
  {
   "cell_type": "markdown",
   "id": "fc48863c",
   "metadata": {},
   "source": [
    "##### Q3\n"
   ]
  },
  {
   "cell_type": "code",
   "execution_count": null,
   "id": "29d425f9",
   "metadata": {},
   "outputs": [],
   "source": []
  },
  {
   "cell_type": "code",
   "execution_count": null,
   "id": "12f959ee",
   "metadata": {},
   "outputs": [],
   "source": []
  },
  {
   "cell_type": "code",
   "execution_count": null,
   "id": "78635bb0",
   "metadata": {},
   "outputs": [],
   "source": [
    " "
   ]
  },
  {
   "cell_type": "code",
   "execution_count": null,
   "id": "2ced73a5",
   "metadata": {},
   "outputs": [],
   "source": []
  },
  {
   "cell_type": "code",
   "execution_count": null,
   "id": "90bdd301",
   "metadata": {},
   "outputs": [],
   "source": []
  },
  {
   "cell_type": "code",
   "execution_count": 62,
   "id": "4984b0d6",
   "metadata": {},
   "outputs": [
    {
     "data": {
      "text/plain": [
       "24"
      ]
     },
     "execution_count": 62,
     "metadata": {},
     "output_type": "execute_result"
    }
   ],
   "source": [
    "'''Question 1 \n",
    "\n",
    "Write a Python program that multiplies all the items in a list.\n",
    "\n",
    "Sample list= [2, 3, 6]\n",
    "\n",
    "Result = 36'''\n",
    "def multiples(s):\n",
    "    result=1\n",
    "    \n",
    "    for i in range(0,len(s)):\n",
    "        result=result*s[i]\n",
    "    return result\n",
    "        \n",
    "#x=list(input(\"write a liste\"))\n",
    "x = [2,3,4]\n",
    "multiples(x)"
   ]
  },
  {
   "cell_type": "code",
   "execution_count": null,
   "id": "5e2f6a59",
   "metadata": {},
   "outputs": [],
   "source": []
  },
  {
   "cell_type": "code",
   "execution_count": null,
   "id": "c3a04f5e",
   "metadata": {},
   "outputs": [],
   "source": []
  },
  {
   "cell_type": "code",
   "execution_count": null,
   "id": "854dde98",
   "metadata": {},
   "outputs": [],
   "source": [
    "\n"
   ]
  },
  {
   "cell_type": "code",
   "execution_count": 98,
   "id": "52cfe0eb",
   "metadata": {},
   "outputs": [
    {
     "name": "stdout",
     "output_type": "stream",
     "text": [
      "[(2, 1), (1, 2), (2, 3), (4, 4), (2, 5)]\n"
     ]
    }
   ],
   "source": [
    "'''Question 2\n",
    "\n",
    "Write a Python program to get a list, sorted in increasing order by the last element in each tuple,\n",
    "from a given list of non-empty tuples.\n",
    "\n",
    "Sample List : [(2, 5), (1, 2), (4, 4), (2, 3), (2, 1)]\n",
    "Expected result : [(2, 1), (1, 2), (2, 3), (4, 4), (2, 5)]\n",
    "\n",
    "Hint: You can use the sort function.'''\n",
    "def sortedlist(s):\n",
    "    n=len(s)\n",
    "    for i in range(n):\n",
    "        for j in range(0,n-i-1):\n",
    "            if s[j][1]> s[j+1][1]:\n",
    "                tmp=s[j]\n",
    "                s[j]=s[j+1]\n",
    "                s[j+1]=tmp\n",
    "                               \n",
    "    return s   \n",
    "x=[(2, 5), (1, 2), (4, 4), (2, 3), (2, 1)]\n",
    "sortedlist(x)\n",
    "print(x)"
   ]
  },
  {
   "cell_type": "code",
   "execution_count": 113,
   "id": "4f010676",
   "metadata": {},
   "outputs": [
    {
     "data": {
      "text/plain": [
       "{}"
      ]
     },
     "execution_count": 113,
     "metadata": {},
     "output_type": "execute_result"
    }
   ],
   "source": [
    "'''Question 3 \n",
    "\n",
    "Write a Python program that combines two dictionaries by adding values for common keys.\n",
    "\n",
    "d1 = {'a': 100, 'b': 200, 'c':300}\n",
    "\n",
    "d2 = {'a': 300, 'b': 200, 'd':400}\n",
    "\n",
    "Expected result: {'a': 400, 'b': 400, 'd': 400, 'c': 300}'''\n",
    "\n",
    "def combindic(d1,d2):\n",
    "    dic={}    \n",
    "    for i,j in d1.items():  \n",
    "        for x,y in d2.items():  \n",
    "            if i ==x:\n",
    "                for k,d in dic.items():\n",
    "                    dic[k] = j+y  \n",
    "    return dic\n",
    "    \n",
    "x={'a': 100, 'b': 200, 'c':300}\n",
    "y={'a': 300, 'b': 200, 'd':400}\n",
    "combindic(x,y)    \n",
    "    "
   ]
  },
  {
   "cell_type": "code",
   "execution_count": 115,
   "id": "8ea13fd2",
   "metadata": {},
   "outputs": [
    {
     "name": "stdout",
     "output_type": "stream",
     "text": [
      "write a number4\n"
     ]
    },
    {
     "data": {
      "text/plain": [
       "{0: 0, 1: 1, 2: 4, 3: 9}"
      ]
     },
     "execution_count": 115,
     "metadata": {},
     "output_type": "execute_result"
    }
   ],
   "source": [
    "'''Question 4\n",
    "\n",
    "With a given integral number n, write a program to generate a dictionary that contains\n",
    "(i, i*i) so that is an integral number between 1 and n (both included). \n",
    "Then the program should print the dictionary. Suppose the following input is supplied to the program: 8.\n",
    "Then, the output should be:\n",
    "{1: 1, 2: 4, 3: 9, 4: 16, 5: 25, 6: 36, 7: 49, 8: 64}'''\n",
    "\n",
    "\n",
    "\n",
    "def generate(num):\n",
    "    d={}\n",
    "    for i in range(num):\n",
    "        d[i]=i*i\n",
    "    return d    \n",
    "    \n",
    "    \n",
    "    \n",
    "x=int(input('write a number'))\n",
    "generate(x)   \n"
   ]
  },
  {
   "cell_type": "code",
   "execution_count": 111,
   "id": "3d84a1a6",
   "metadata": {},
   "outputs": [
    {
     "data": {
      "text/plain": [
       "[('item1', '12.20'), ('item2', '15.10'), ('item3', '24.5')]"
      ]
     },
     "execution_count": 111,
     "metadata": {},
     "output_type": "execute_result"
    }
   ],
   "source": [
    "'''Question 5\n",
    "\n",
    "Write a program to sort a tuple by its float element.\n",
    "\n",
    "For example: list= [('item1', '12.20'), ('item2', '15.10'), ('item3', '24.5')]\n",
    "\n",
    "Expected result: [('item3', '24.5'), ('item2', '15.10'), ('item1', '12.20')]'''\n",
    "\n",
    "\n",
    "\n",
    "def sorttuple(s):\n",
    "    n=len(s)\n",
    "    for i in range(n):\n",
    "        for j in range(0,n-i-1):\n",
    "            if s[j][1]> s[j+1][1]:\n",
    "                tmp=s[j]\n",
    "                s[j]=s[j+1]\n",
    "                s[j+1]=tmp\n",
    "                               \n",
    "    return s   \n",
    "    \n",
    "x=[('item1', '12.20'), ('item2', '15.10'), ('item3', '24.5')]\n",
    "sorttuple(x)  \n",
    "\n"
   ]
  },
  {
   "cell_type": "code",
   "execution_count": 120,
   "id": "a389d4cb",
   "metadata": {},
   "outputs": [
    {
     "ename": "IndentationError",
     "evalue": "unindent does not match any outer indentation level (<tokenize>, line 24)",
     "output_type": "error",
     "traceback": [
      "\u001b[1;36m  File \u001b[1;32m\"<tokenize>\"\u001b[1;36m, line \u001b[1;32m24\u001b[0m\n\u001b[1;33m    return s\u001b[0m\n\u001b[1;37m    ^\u001b[0m\n\u001b[1;31mIndentationError\u001b[0m\u001b[1;31m:\u001b[0m unindent does not match any outer indentation level\n"
     ]
    }
   ],
   "source": [
    "'''Question 6\n",
    "\n",
    "Write a Python program to create a set.\n",
    "\n",
    "Examples : {0, 1, 2, 3, 4}\n",
    "\n",
    "Write a Python program to iteration over sets.\n",
    "\n",
    "Write a Python program to add members in a set and to remove items from a given set.'''\n",
    "  \n",
    "x=[int(i) for i in set(input(\"write a numbers\"))]\n",
    "s=print(x)\n",
    "def add(num):\n",
    "    for i in range(len(s))\n",
    "        if num !=s{i}\n",
    "            s.add(num)\n",
    "    return s\n",
    "\n",
    "def remove(num):\n",
    "     for i in range(len(s))\n",
    "        if num ==s{i}\n",
    "            s.remove(num)\n",
    "    return s\n",
    "n1=int(input('write num that you wanna add to the set'))\n",
    "add(n1)\n",
    "n2=int(input('write num that you wanna remove from the set'))\n",
    "remove(n2)"
   ]
  },
  {
   "cell_type": "code",
   "execution_count": null,
   "id": "d5a220f9",
   "metadata": {},
   "outputs": [],
   "source": []
  }
 ],
 "metadata": {
  "kernelspec": {
   "display_name": "Python 3 (ipykernel)",
   "language": "python",
   "name": "python3"
  },
  "language_info": {
   "codemirror_mode": {
    "name": "ipython",
    "version": 3
   },
   "file_extension": ".py",
   "mimetype": "text/x-python",
   "name": "python",
   "nbconvert_exporter": "python",
   "pygments_lexer": "ipython3",
   "version": "3.9.13"
  }
 },
 "nbformat": 4,
 "nbformat_minor": 5
}
