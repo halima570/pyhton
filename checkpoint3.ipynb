{
 "cells": [
  {
   "cell_type": "code",
   "execution_count": 62,
   "id": "4984b0d6",
   "metadata": {},
   "outputs": [
    {
     "data": {
      "text/plain": [
       "24"
      ]
     },
     "execution_count": 62,
     "metadata": {},
     "output_type": "execute_result"
    }
   ],
   "source": [
    "'''Question 1 \n",
    "\n",
    "Write a Python program that multiplies all the items in a list.\n",
    "\n",
    "Sample list= [2, 3, 6]\n",
    "\n",
    "Result = 36'''\n",
    "def multiples(s):\n",
    "    result=1\n",
    "    \n",
    "    for i in range(0,len(s)):\n",
    "        result=result*s[i]\n",
    "    return result\n",
    "        \n",
    "#x=list(input(\"write a liste\"))\n",
    "x = [2,3,4]\n",
    "multiples(x)"
   ]
  },
  {
   "cell_type": "code",
   "execution_count": 98,
   "id": "52cfe0eb",
   "metadata": {},
   "outputs": [
    {
     "name": "stdout",
     "output_type": "stream",
     "text": [
      "[(2, 1), (1, 2), (2, 3), (4, 4), (2, 5)]\n"
     ]
    }
   ],
   "source": [
    "'''Question 2\n",
    "\n",
    "Write a Python program to get a list, sorted in increasing order by the last element in each tuple,\n",
    "from a given list of non-empty tuples.\n",
    "\n",
    "Sample List : [(2, 5), (1, 2), (4, 4), (2, 3), (2, 1)]\n",
    "Expected result : [(2, 1), (1, 2), (2, 3), (4, 4), (2, 5)]\n",
    "\n",
    "Hint: You can use the sort function.'''\n",
    "def sortedlist(s):\n",
    "    n=len(s)\n",
    "    for i in range(n):\n",
    "        for j in range(0,n-i-1):\n",
    "            if s[j][1]> s[j+1][1]:\n",
    "                tmp=s[j]\n",
    "                s[j]=s[j+1]\n",
    "                s[j+1]=tmp\n",
    "                               \n",
    "    return s   \n",
    "x=[(2, 5), (1, 2), (4, 4), (2, 3), (2, 1)]\n",
    "sortedlist(x)\n",
    "print(x)"
   ]
  },
  {
   "cell_type": "code",
   "execution_count": 7,
   "id": "4f010676",
   "metadata": {},
   "outputs": [
    {
     "data": {
      "text/plain": [
       "{'a': 400, 'b': 400, 'c': 300, 'd': 400}"
      ]
     },
     "execution_count": 7,
     "metadata": {},
     "output_type": "execute_result"
    }
   ],
   "source": [
    "'''Question 3 \n",
    "\n",
    "Write a Python program that combines two dictionaries by adding values for common keys.\n",
    "\n",
    "d1 = {'a': 100, 'b': 200, 'c':300}\n",
    "\n",
    "d2 = {'a': 300, 'b': 200, 'd':400}\n",
    "\n",
    "Expected result: {'a': 400, 'b': 400, 'd': 400, 'c': 300}'''\n",
    "\n",
    "def combindic(d1,d2):\n",
    "    dic={}    \n",
    "    for key,value in d1.items():  \n",
    "        if key in d2.keys():\n",
    "            dic[key] = value+d2[key]  \n",
    "        else:\n",
    "            dic[key]=value\n",
    "    for key in d2.keys():\n",
    "        if key not in d1.keys():\n",
    "            dic[key] = d2[key]\n",
    "    return dic\n",
    "    \n",
    "x={'a': 100, 'b': 200, 'c':300}\n",
    "y={'a': 300, 'b': 200, 'd':400}\n",
    "combindic(x,y)    \n",
    "    \n",
    "    ''' methode 2\n",
    "    for key,key2 in zip(key,key2):\n",
    "        if key==key2:\n",
    "            dic[key]=d1[key]+d2[key2]\n",
    "        else:\n",
    "            dic[key]=d1[key]\n",
    "            dic[key2]=d2[key2]\n",
    "            \n",
    "    \n",
    "    '''"
   ]
  },
  {
   "cell_type": "code",
   "execution_count": 8,
   "id": "8ea13fd2",
   "metadata": {},
   "outputs": [
    {
     "name": "stdout",
     "output_type": "stream",
     "text": [
      "write a number9\n"
     ]
    },
    {
     "data": {
      "text/plain": [
       "{1: 1, 2: 4, 3: 9, 4: 16, 5: 25, 6: 36, 7: 49, 8: 64}"
      ]
     },
     "execution_count": 8,
     "metadata": {},
     "output_type": "execute_result"
    }
   ],
   "source": [
    "'''Question 4\n",
    "\n",
    "With a given integral number n, write a program to generate a dictionary that contains\n",
    "(i, i*i) so that is an integral number between 1 and n (both included). \n",
    "Then the program should print the dictionary. Suppose the following input is supplied to the program: 8.\n",
    "Then, the output should be:\n",
    "{1: 1, 2: 4, 3: 9, 4: 16, 5: 25, 6: 36, 7: 49, 8: 64}'''\n",
    "\n",
    "\n",
    "\n",
    "def generate(num):\n",
    "    d={}\n",
    "    for i in range(1,num):\n",
    "        d[i]=i*i\n",
    "    return d    \n",
    "    \n",
    "    \n",
    "    \n",
    "x=int(input('write a number'))\n",
    "generate(x)   \n"
   ]
  },
  {
   "cell_type": "code",
   "execution_count": 111,
   "id": "3d84a1a6",
   "metadata": {},
   "outputs": [
    {
     "data": {
      "text/plain": [
       "[('item1', '12.20'), ('item2', '15.10'), ('item3', '24.5')]"
      ]
     },
     "execution_count": 111,
     "metadata": {},
     "output_type": "execute_result"
    }
   ],
   "source": [
    "'''Question 5\n",
    "\n",
    "Write a program to sort a tuple by its float element.\n",
    "\n",
    "For example: list= [('item1', '12.20'), ('item2', '15.10'), ('item3', '24.5')]\n",
    "\n",
    "Expected result: [('item3', '24.5'), ('item2', '15.10'), ('item1', '12.20')]'''\n",
    "\n",
    "\n",
    "\n",
    "def sorttuple(s):\n",
    "    n=len(s)\n",
    "    for i in range(n):\n",
    "        for j in range(0,n-i-1):\n",
    "            if s[j][1]> s[j+1][1]:\n",
    "                tmp=s[j]\n",
    "                s[j]=s[j+1]\n",
    "                s[j+1]=tmp\n",
    "                               \n",
    "    return s   \n",
    "    \n",
    "x=[('item1', '12.20'), ('item2', '15.10'), ('item3', '24.5')]\n",
    "sorttuple(x)  \n",
    "\n",
    "''' \n",
    "list.sort(key= lambda x:float(x[1]),reverse=True)\n",
    "\n",
    "\n",
    "'''\n",
    "\n"
   ]
  },
  {
   "cell_type": "code",
   "execution_count": null,
   "id": "03241a30",
   "metadata": {},
   "outputs": [],
   "source": [
    "'''Question 6\n",
    "\n",
    "Write a Python program to create a set.\n",
    "\n",
    "Examples : {0, 1, 2, 3, 4}\n",
    "\n",
    "Write a Python program to iteration over sets.\n",
    "\n",
    "Write a Python program to add members in a set and to remove items from a given set.'''\n",
    "  \n",
    "x={int(i) for i in input(\"write a numbers\")}"
   ]
  },
  {
   "cell_type": "code",
   "execution_count": 14,
   "id": "0f5ab913",
   "metadata": {},
   "outputs": [
    {
     "name": "stdout",
     "output_type": "stream",
     "text": [
      "1\n",
      "2\n",
      "3\n",
      "4\n",
      "5\n"
     ]
    }
   ],
   "source": [
    "for i in x:\n",
    "    print(i)"
   ]
  },
  {
   "cell_type": "code",
   "execution_count": null,
   "id": "21ff3933",
   "metadata": {},
   "outputs": [],
   "source": [
    "### def add(num):\n",
    "    for i in range(0,len(s))\n",
    "        if num !=s{i}\n",
    "            s.add(num)\n",
    "    return s\n",
    "\n",
    "def remove(num):\n",
    "     for i in range(len(s))\n",
    "        if num ==s{i}\n",
    "            s.remove(num)\n",
    "    return s\n",
    "n1=int(input('write num that you wanna add to the set'))\n",
    "add(n1)\n",
    "n2=int(input('write num that you wanna remove from the set'))\n",
    "remove(n2)"
   ]
  },
  {
   "cell_type": "code",
   "execution_count": 30,
   "id": "d322b816",
   "metadata": {},
   "outputs": [
    {
     "name": "stdout",
     "output_type": "stream",
     "text": [
      "write a numbers to creat a set123\n",
      "write num that you wanna add to the set4\n"
     ]
    },
    {
     "data": {
      "text/plain": [
       "{1, 2, 3, 4}"
      ]
     },
     "execution_count": 30,
     "metadata": {},
     "output_type": "execute_result"
    }
   ],
   "source": [
    "def add(num,x):\n",
    "    for i in range(len(x)):\n",
    "        if num not in x:\n",
    "            x.add(num)\n",
    "    return x\n",
    "x={int(i) for i in input(\"write a numbers to creat a set\")}\n",
    "n1=int(input('write num that you wanna add to the set'))\n",
    "add(n1,x)\n"
   ]
  },
  {
   "cell_type": "code",
   "execution_count": 32,
   "id": "f24a5352",
   "metadata": {},
   "outputs": [
    {
     "name": "stdout",
     "output_type": "stream",
     "text": [
      "write a numbers to creat a set123\n",
      "write num that you wanna remove to the set2\n"
     ]
    },
    {
     "data": {
      "text/plain": [
       "{1, 3}"
      ]
     },
     "execution_count": 32,
     "metadata": {},
     "output_type": "execute_result"
    }
   ],
   "source": [
    "def remove(num,x):\n",
    "    for i in range(len(x)):\n",
    "        if num in x:\n",
    "            x.remove(num)\n",
    "    return x\n",
    "x={int(i) for i in input(\"write a numbers to creat a set\")}\n",
    "n1=int(input('write num that you wanna remove to the set'))\n",
    "remove(n1,x)"
   ]
  },
  {
   "cell_type": "code",
   "execution_count": 35,
   "id": "9ee7dd7b",
   "metadata": {},
   "outputs": [],
   "source": [
    "def minimum(a,b):\n",
    "    if a<b:\n",
    "       return(a)\n",
    "    else:\n",
    "      return(b)\n",
    "min = minimum(10,2)"
   ]
  },
  {
   "cell_type": "code",
   "execution_count": 36,
   "id": "07059d8a",
   "metadata": {},
   "outputs": [
    {
     "name": "stdout",
     "output_type": "stream",
     "text": [
      "[2, 4, 6, 8]\n"
     ]
    }
   ],
   "source": [
    "# Python program to demonstrate working\n",
    "# of map.\n",
    "  \n",
    "# Return double of n\n",
    "def addition(n):\n",
    "    return n + n\n",
    "  \n",
    "# We double all numbers using map()\n",
    "numbers = (1, 2, 3, 4)\n",
    "result = map(addition, numbers)\n",
    "print(list(result))"
   ]
  },
  {
   "cell_type": "code",
   "execution_count": 37,
   "id": "9cebb977",
   "metadata": {},
   "outputs": [
    {
     "name": "stdout",
     "output_type": "stream",
     "text": [
      "[5, 6, 6]\n"
     ]
    }
   ],
   "source": [
    "def myfunc(a):\n",
    "\treturn len(a)\n",
    "fruit=('apple', 'banana', 'cherry')\n",
    "result = map(myfunc,fruit )\n",
    "\n",
    "print(list(result))"
   ]
  },
  {
   "cell_type": "code",
   "execution_count": null,
   "id": "9136bd7f",
   "metadata": {},
   "outputs": [],
   "source": []
  }
 ],
 "metadata": {
  "kernelspec": {
   "display_name": "Python 3 (ipykernel)",
   "language": "python",
   "name": "python3"
  },
  "language_info": {
   "codemirror_mode": {
    "name": "ipython",
    "version": 3
   },
   "file_extension": ".py",
   "mimetype": "text/x-python",
   "name": "python",
   "nbconvert_exporter": "python",
   "pygments_lexer": "ipython3",
   "version": "3.9.13"
  }
 },
 "nbformat": 4,
 "nbformat_minor": 5
}
