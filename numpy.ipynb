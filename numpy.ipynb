{
 "cells": [
  {
   "cell_type": "code",
   "execution_count": 2,
   "id": "c9118791",
   "metadata": {},
   "outputs": [
    {
     "name": "stdout",
     "output_type": "stream",
     "text": [
      "[[0.50956487 0.47054584]\n",
      " [0.16152841 0.05995099]\n",
      " [0.46643357 0.47059706]]\n"
     ]
    }
   ],
   "source": [
    "import numpy as np\n",
    "array=np.random.random((3,2))\n",
    "print(array)\n"
   ]
  },
  {
   "cell_type": "code",
   "execution_count": 3,
   "id": "e6d6ab54",
   "metadata": {},
   "outputs": [
    {
     "name": "stdout",
     "output_type": "stream",
     "text": [
      "0.3603015155659327\n"
     ]
    }
   ],
   "source": [
    "import numpy as np\n",
    "value=np.random.random()\n",
    "print(value)"
   ]
  },
  {
   "cell_type": "code",
   "execution_count": 5,
   "id": "0a710400",
   "metadata": {},
   "outputs": [
    {
     "name": "stdout",
     "output_type": "stream",
     "text": [
      "[[2 2 3 8]\n",
      " [2 9 8 5]]\n"
     ]
    }
   ],
   "source": [
    "import numpy as np\n",
    "array=np.random.randint(2,10,size=(2,4))\n",
    "print(array)"
   ]
  },
  {
   "cell_type": "code",
   "execution_count": 8,
   "id": "1bd786ed",
   "metadata": {},
   "outputs": [
    {
     "name": "stdout",
     "output_type": "stream",
     "text": [
      "[0. 0. 0. 0. 0.]\n"
     ]
    }
   ],
   "source": [
    "array=np.zeros(5)\n",
    "print(array)\n"
   ]
  },
  {
   "cell_type": "code",
   "execution_count": 10,
   "id": "cf78a58f",
   "metadata": {},
   "outputs": [
    {
     "name": "stdout",
     "output_type": "stream",
     "text": [
      "[2 2 2 2 2]\n"
     ]
    }
   ],
   "source": [
    "array=np.full(5, 2)\n",
    "print(array)\n"
   ]
  },
  {
   "cell_type": "code",
   "execution_count": 13,
   "id": "22269fff",
   "metadata": {},
   "outputs": [
    {
     "name": "stdout",
     "output_type": "stream",
     "text": [
      "[[1. 0. 0.]\n",
      " [0. 1. 0.]\n",
      " [0. 0. 1.]]\n"
     ]
    }
   ],
   "source": [
    "array=np.eye(3)\n",
    "print(array)"
   ]
  },
  {
   "cell_type": "code",
   "execution_count": 20,
   "id": "ce440fc4",
   "metadata": {},
   "outputs": [
    {
     "data": {
      "text/plain": [
       "[1, 2, 3, 4]"
      ]
     },
     "execution_count": 20,
     "metadata": {},
     "output_type": "execute_result"
    }
   ],
   "source": [
    "'''\n",
    "Question 1\n",
    "\n",
    "Write a Python program to convert an array to an ordinary list with the same items.\n",
    "We can use the np.tolist() function.\n",
    "'''\n",
    "import numpy as np\n",
    "\n",
    "def convert(arr):\n",
    "    x=arr.tolist()#or x=list(arr)\n",
    "    return x\n",
    "arr=np.array([1,2,3,4])\n",
    "convert(arr)"
   ]
  },
  {
   "cell_type": "code",
   "execution_count": 22,
   "id": "346b2218",
   "metadata": {},
   "outputs": [
    {
     "data": {
      "text/plain": [
       "7"
      ]
     },
     "execution_count": 22,
     "metadata": {},
     "output_type": "execute_result"
    }
   ],
   "source": [
    "'''\n",
    "Question 2 \n",
    "\n",
    "Write a NumPy program to compute the sum of the diagonal elements of a given array.\n",
    "Hint: There are two possible methods to solve this problem: \n",
    "Manually (without direct function). \n",
    "Using the trace function\n",
    "'''\n",
    "import numpy as np\n",
    "#we use trace() \n",
    "def sum_diag(arr):\n",
    "    x=arr.trace()\n",
    "    return x\n",
    "arr=np.array([[1,3,5],[3,6,7]])#6+1\n",
    "sum_diag(arr)"
   ]
  },
  {
   "cell_type": "code",
   "execution_count": 2,
   "id": "a29ad616",
   "metadata": {},
   "outputs": [
    {
     "name": "stdout",
     "output_type": "stream",
     "text": [
      "write a number3\n"
     ]
    },
    {
     "data": {
      "text/plain": [
       "[5]"
      ]
     },
     "execution_count": 2,
     "metadata": {},
     "output_type": "execute_result"
    }
   ],
   "source": [
    "'''\n",
    "Question 3\n",
    "\n",
    "Given an array of your choice, get all the values higher than X:\n",
    "If a = [[1,2],[3,5]] and x = 2 :  then 3 and 5 are higher than 2. \n",
    "'''\n",
    "def higher(arr,x):\n",
    "    result = list(filter(lambda val: val > x, [val for sublist in a for val in sublist]))\n",
    "    return result\n",
    "\n",
    "a = [[1, 2], [3, 5]]\n",
    "x =int(input(\"write a number\"))\n",
    "higher(a,x)\n",
    "\n",
    "\n"
   ]
  },
  {
   "cell_type": "code",
   "execution_count": 3,
   "id": "f266f56e",
   "metadata": {},
   "outputs": [
    {
     "name": "stdout",
     "output_type": "stream",
     "text": [
      "[[ 6  8]\n",
      " [10 12]]\n"
     ]
    }
   ],
   "source": [
    "'''\n",
    "Question 4\n",
    "\n",
    "Given two arrays, A & B have the same shape. \n",
    "The task is to apply addition by hand: C is the new array. \n",
    "'''\n",
    "import numpy as np\n",
    "\n",
    "A = np.array([[1, 2], [3, 4]])\n",
    "B = np.array([[5, 6], [7, 8]])\n",
    "C = np.add(A, B)#or c=a+b\n",
    "print(C)\n",
    "'''\n",
    "methode 2\n",
    "C = np.zeros(A.shape)\n",
    "for i in range(A.shape[0]):\n",
    "    for j in range(A.shape[1]):\n",
    "        C[i][j] = A[i][j] + B[i][j]\n",
    "'''\n"
   ]
  },
  {
   "cell_type": "code",
   "execution_count": 8,
   "id": "13df4502",
   "metadata": {},
   "outputs": [
    {
     "name": "stdout",
     "output_type": "stream",
     "text": [
      "[[-1.  0.  1.]\n",
      " [-1.  0.  1.]\n",
      " [-1.  0.  1.]]\n",
      "[[2.]\n",
      " [5.]\n",
      " [8.]]\n"
     ]
    }
   ],
   "source": [
    "'''\n",
    "Question 5\n",
    "\n",
    "Write a NumPy program to subtract the mean of each row of a given matrix.\n",
    "Hint: use the mean function\n",
    "'''\n",
    "import numpy as np\n",
    "\n",
    "matrix = np.array([[1, 2, 3], [4, 5, 6], [7, 8, 9]])\n",
    "\n",
    "# Calculate the mean of each row\n",
    "row_means = np.mean(matrix, axis=1)#si axis=0 calcule each column\n",
    "\n",
    "# Subtract the mean of each row from the original matrix\n",
    "result = matrix - row_means[:, np.newaxis]\n",
    "\n",
    "print(result)\n",
    "print(row_means[:, np.newaxis])\n"
   ]
  },
  {
   "cell_type": "code",
   "execution_count": null,
   "id": "85af7b91",
   "metadata": {},
   "outputs": [],
   "source": []
  }
 ],
 "metadata": {
  "kernelspec": {
   "display_name": "Python 3 (ipykernel)",
   "language": "python",
   "name": "python3"
  },
  "language_info": {
   "codemirror_mode": {
    "name": "ipython",
    "version": 3
   },
   "file_extension": ".py",
   "mimetype": "text/x-python",
   "name": "python",
   "nbconvert_exporter": "python",
   "pygments_lexer": "ipython3",
   "version": "3.9.13"
  }
 },
 "nbformat": 4,
 "nbformat_minor": 5
}
