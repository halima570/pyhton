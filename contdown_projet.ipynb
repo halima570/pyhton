{
 "cells": [
  {
   "cell_type": "code",
   "execution_count": 1,
   "id": "1564c3eb",
   "metadata": {},
   "outputs": [
    {
     "name": "stdout",
     "output_type": "stream",
     "text": [
      "Enter the length of the countdown in seconds: 120\n",
      "00:14\r"
     ]
    },
    {
     "ename": "KeyboardInterrupt",
     "evalue": "",
     "output_type": "error",
     "traceback": [
      "\u001b[1;31m---------------------------------------------------------------------------\u001b[0m",
      "\u001b[1;31mKeyboardInterrupt\u001b[0m                         Traceback (most recent call last)",
      "\u001b[1;32m~\\AppData\\Local\\Temp\\ipykernel_21712\\3735013500.py\u001b[0m in \u001b[0;36m<module>\u001b[1;34m\u001b[0m\n\u001b[0;32m     14\u001b[0m \u001b[1;33m\u001b[0m\u001b[0m\n\u001b[0;32m     15\u001b[0m     \u001b[1;31m# Wait for one second\u001b[0m\u001b[1;33m\u001b[0m\u001b[1;33m\u001b[0m\u001b[0m\n\u001b[1;32m---> 16\u001b[1;33m     \u001b[0mtime\u001b[0m\u001b[1;33m.\u001b[0m\u001b[0msleep\u001b[0m\u001b[1;33m(\u001b[0m\u001b[1;36m1\u001b[0m\u001b[1;33m)\u001b[0m\u001b[1;33m\u001b[0m\u001b[1;33m\u001b[0m\u001b[0m\n\u001b[0m\u001b[0;32m     17\u001b[0m \u001b[1;33m\u001b[0m\u001b[0m\n\u001b[0;32m     18\u001b[0m     \u001b[1;31m# Decrement the countdown length and update the minutes and seconds\u001b[0m\u001b[1;33m\u001b[0m\u001b[1;33m\u001b[0m\u001b[0m\n",
      "\u001b[1;31mKeyboardInterrupt\u001b[0m: "
     ]
    }
   ],
   "source": [
    "import time\n",
    "\n",
    "# Get the length of the countdown in seconds from the user\n",
    "countdown_length = int(input(\"Enter the length of the countdown in seconds: \"))\n",
    "\n",
    "# Convert the countdown length to minutes and seconds\n",
    "countdown_minutes = countdown_length // 60\n",
    "countdown_seconds = countdown_length % 60\n",
    "\n",
    "# Start the countdown\n",
    "while countdown_length > 0:\n",
    "    # Display the current countdown time\n",
    "    print(f\"{countdown_minutes:02d}:{countdown_seconds:02d}\", end=\"\\r\")\n",
    "\n",
    "    # Wait for one second\n",
    "    time.sleep(1)\n",
    "\n",
    "    # Decrement the countdown length and update the minutes and seconds\n",
    "    countdown_length -= 1\n",
    "    countdown_minutes = countdown_length // 60\n",
    "    countdown_seconds = countdown_length % 60\n",
    "\n",
    "# Display the final message\n",
    "print(\"Time's up!\")"
   ]
  },
  {
   "cell_type": "code",
   "execution_count": 2,
   "id": "e3b09b20",
   "metadata": {},
   "outputs": [
    {
     "name": "stdout",
     "output_type": "stream",
     "text": [
      "Enter the length of the countdown in seconds: 120\n",
      "Fire in the hole!\n"
     ]
    }
   ],
   "source": [
    "import time\n",
    "\n",
    "def countdown(t):\n",
    "    while t:\n",
    "        mins, secs = divmod(t, 60)\n",
    "        timeformat = '{:02d}:{:02d}'.format(mins, secs)\n",
    "        print(timeformat, end='\\r')\n",
    "        time.sleep(1)\n",
    "        t -= 1\n",
    "    print('Fire in the hole!')\n",
    "\n",
    "seconds = int(input(\"Enter the length of the countdown in seconds: \"))\n",
    "countdown(seconds)"
   ]
  },
  {
   "cell_type": "code",
   "execution_count": 9,
   "id": "997468dd",
   "metadata": {},
   "outputs": [
    {
     "name": "stdout",
     "output_type": "stream",
     "text": [
      "oj\n",
      "kjk\r",
      "hg\n"
     ]
    }
   ],
   "source": [
    "print(\"oj\")\n",
    "print(\"kjk\\rhg\")"
   ]
  },
  {
   "cell_type": "code",
   "execution_count": null,
   "id": "61e58315",
   "metadata": {},
   "outputs": [],
   "source": []
  }
 ],
 "metadata": {
  "kernelspec": {
   "display_name": "Python 3 (ipykernel)",
   "language": "python",
   "name": "python3"
  },
  "language_info": {
   "codemirror_mode": {
    "name": "ipython",
    "version": 3
   },
   "file_extension": ".py",
   "mimetype": "text/x-python",
   "name": "python",
   "nbconvert_exporter": "python",
   "pygments_lexer": "ipython3",
   "version": "3.9.13"
  }
 },
 "nbformat": 4,
 "nbformat_minor": 5
}
