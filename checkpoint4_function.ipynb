{
 "cells": [
  {
   "cell_type": "code",
   "execution_count": 4,
   "id": "7564a022",
   "metadata": {},
   "outputs": [
    {
     "name": "stdout",
     "output_type": "stream",
     "text": [
      "write the fist num 1\n",
      "write the second num 2\n",
      "write the thord num 3\n",
      "3\n"
     ]
    },
    {
     "data": {
      "text/plain": [
       "3"
      ]
     },
     "execution_count": 4,
     "metadata": {},
     "output_type": "execute_result"
    }
   ],
   "source": [
    "'''\n",
    "Question 1\n",
    "\n",
    "Write a Python function to find the largest (max) of three numbers.\n",
    "\n",
    "For example, the max of these three numbers (20, 35, 19) is 35.\n",
    "'''\n",
    "def maximum(n1,n2,n3):\n",
    "    maxi=n1\n",
    "    if maxi<n2 and n2>n3:\n",
    "        maxi=n2\n",
    "    else:\n",
    "        maxi=n3\n",
    "    print(maxi)\n",
    "    return maxi\n",
    "x=int(input(\"write the fist num \"))\n",
    "y=int(input(\"write the second num \")) \n",
    "z=int(input(\"write the thord num \"))\n",
    "maximum(x,y,z)\n",
    "\n",
    "\n"
   ]
  },
  {
   "cell_type": "code",
   "execution_count": 6,
   "id": "2b35f141",
   "metadata": {},
   "outputs": [
    {
     "name": "stdout",
     "output_type": "stream",
     "text": [
      "write the fist num 1\n",
      "write the second num 2\n"
     ]
    },
    {
     "data": {
      "text/plain": [
       "('la dition de x,y est ', 3, 'la sustaction est ', -1)"
      ]
     },
     "execution_count": 6,
     "metadata": {},
     "output_type": "execute_result"
    }
   ],
   "source": [
    "'''\n",
    "Question 2\n",
    "\n",
    "Write a function calculation() so it can accept two variables and calculate the addition \n",
    "and subtraction of them. It must return both addition and subtraction in a single return call.\n",
    "\n",
    "For example:\n",
    "\n",
    "calculation(40, 10) should produce 50, 30\n",
    "'''\n",
    "def calculation(x,y):\n",
    "    return \"la dition de x,y est \",x+y,\"la sustaction est \",x-y\n",
    "\n",
    "n1=int(input(\"write the fist num \"))\n",
    "n2=int(input(\"write the second num \")) \n",
    "calculation(n1,n2)\n",
    "\n",
    "\n"
   ]
  },
  {
   "cell_type": "code",
   "execution_count": 10,
   "id": "cb3c5e78",
   "metadata": {},
   "outputs": [
    {
     "name": "stdout",
     "output_type": "stream",
     "text": [
      "write numbers to creat a list1234\n"
     ]
    },
    {
     "data": {
      "text/plain": [
       "10"
      ]
     },
     "execution_count": 10,
     "metadata": {},
     "output_type": "execute_result"
    }
   ],
   "source": [
    "'''\n",
    "Question 3\n",
    "\n",
    "Write a function that sums the elements of a list of integers.\n",
    "\n",
    "'''\n",
    "def sume(x):\n",
    "    sumee=0\n",
    "    for i in range(len(x)) :\n",
    "        sumee+=x[i]\n",
    "    return (sumee)\n",
    "    \n",
    "x=[int(i) for i in input(\"write numbers to creat a list\")]\n",
    "c= sume(x)\n",
    "print(c)\n"
   ]
  },
  {
   "cell_type": "code",
   "execution_count": 18,
   "id": "6efaad46",
   "metadata": {},
   "outputs": [
    {
     "name": "stdout",
     "output_type": "stream",
     "text": [
      "write numbers to creat a list 123\n"
     ]
    },
    {
     "data": {
      "text/plain": [
       "6"
      ]
     },
     "execution_count": 18,
     "metadata": {},
     "output_type": "execute_result"
    }
   ],
   "source": [
    "'''\n",
    "Write a function that multiplies the elements of an integer list.\n",
    "'''\n",
    "\n",
    "def multiple(x):\n",
    "    mult=1\n",
    "    for i in range(len(x)) :\n",
    "        mult*=x[i]\n",
    "    return (mult)\n",
    "    \n",
    "x=[int(i) for i in input(\"write numbers to creat a list \")]\n",
    "multiple(x)\n"
   ]
  },
  {
   "cell_type": "code",
   "execution_count": 20,
   "id": "aed5b9ac",
   "metadata": {},
   "outputs": [
    {
     "name": "stdout",
     "output_type": "stream",
     "text": [
      "write numbers to creat a list1234\n"
     ]
    },
    {
     "data": {
      "text/plain": [
       "('la sum de even num is ', 4, \"la mult d'autre est \", 8)"
      ]
     },
     "execution_count": 20,
     "metadata": {},
     "output_type": "execute_result"
    }
   ],
   "source": [
    "'''\n",
    "Use the two functions to sum the elements whose position is an even number (0,2,4…) and multiply the rest.\n",
    "Hint: Consider extracting two lists from a first list.\n",
    "'''\n",
    "def q3(x):\n",
    "    list1=[]\n",
    "    list2=[]\n",
    "    for i in range(len(x)):\n",
    "        if i%2==0:\n",
    "            list1.append(x[i])\n",
    "        else:\n",
    "            list2.append(x[i])\n",
    "    return \"la sum de even num is \",sume(list1),\"la mult d'autre est \",multiple(list2)\n",
    "\n",
    "\n",
    "x=[int(i) for i in input(\"write numbers to creat a list\")]\n",
    "q3(x)\n"
   ]
  },
  {
   "cell_type": "code",
   "execution_count": 31,
   "id": "de2440be",
   "metadata": {},
   "outputs": [
    {
     "data": {
      "text/plain": [
       "{'a': 'Halima', 'b': 'Kamal'}"
      ]
     },
     "execution_count": 31,
     "metadata": {},
     "output_type": "execute_result"
    }
   ],
   "source": [
    "'''\n",
    "Question 4\n",
    "\n",
    "write a function that displays the first letter of the dictionary value in upper case by using the return statement.\n",
    "'''\n",
    "def q4(x):\n",
    "    for key in x:\n",
    "        x[key] = x[key].capitalize()\n",
    "    return x\n",
    "x={'a':'halima','b':'kamal'}\n",
    "q4(x)"
   ]
  },
  {
   "cell_type": "code",
   "execution_count": 44,
   "id": "9a985090",
   "metadata": {},
   "outputs": [
    {
     "data": {
      "text/plain": [
       "'elhagouchi'"
      ]
     },
     "execution_count": 44,
     "metadata": {},
     "output_type": "execute_result"
    }
   ],
   "source": [
    "'''\n",
    "Question 5\n",
    "\n",
    "write a function that returns the largest word in the dictionary.\n",
    "\n",
    "'''\n",
    "def largest(x):\n",
    "    large=len(list(x.values())[0])\n",
    "    for key in x:\n",
    "        if len(x[key])>large:\n",
    "            large=x[key]\n",
    "    return large\n",
    "\n",
    "\n",
    "x={'a':'halima','b':'elhagouchi'}\n",
    "largest(x)"
   ]
  },
  {
   "cell_type": "code",
   "execution_count": 60,
   "id": "00bc90fd",
   "metadata": {},
   "outputs": [
    {
     "ename": "SyntaxError",
     "evalue": "invalid syntax (4266171514.py, line 17)",
     "output_type": "error",
     "traceback": [
      "\u001b[1;36m  File \u001b[1;32m\"C:\\Users\\LENOVO\\AppData\\Local\\Temp\\ipykernel_18624\\4266171514.py\"\u001b[1;36m, line \u001b[1;32m17\u001b[0m\n\u001b[1;33m    return z\u001b[0m\n\u001b[1;37m    ^\u001b[0m\n\u001b[1;31mSyntaxError\u001b[0m\u001b[1;31m:\u001b[0m invalid syntax\n"
     ]
    }
   ],
   "source": [
    "'''\n",
    "Question 6\n",
    "\n",
    "Write a Python program that accepts a hyphen-separated sequence of words as input and prints the words\n",
    "in a hyphen-separated sequence after sorting them alphabetically.\n",
    "\n",
    "Sample items: green-red-yellow-black-white\n",
    "\n",
    "Expected result: black-green-red-white-yellow\n",
    "\n",
    "Hint: There's a split function to separate your input string into words and a sort function to sort.\n",
    "'''\n",
    "def q6(x):\n",
    "    neuv_x= x.split('-')\n",
    "    nx=neuv_x.sort()\n",
    "    z='-'.join(map(str,nx)\n",
    "    return z\n",
    "    \n",
    "\n",
    "a=input('write a sequence of words ')\n",
    "q6(a)\n"
   ]
  },
  {
   "cell_type": "code",
   "execution_count": 41,
   "id": "f7b5a410",
   "metadata": {},
   "outputs": [
    {
     "data": {
      "text/plain": [
       "'halima'"
      ]
     },
     "execution_count": 41,
     "metadata": {},
     "output_type": "execute_result"
    }
   ],
   "source": [
    "'''\n",
    "Question 7 (Bonus)\n",
    "\n",
    "Write a function that calculates and prints the value according to the given formula: Q = square root of [(2 * C * D)/H].\n",
    "Following are the fixed values of C and H: C is 50, and H is 30. D is the variable whose values should be input to your\n",
    "program in a comma-separated sequence. Example: Let us assume the following comma-separated input sequence is given to\n",
    "the function: 100,150,180. \n",
    "\n",
    "Expected result: 18,22,24 \n",
    "\n",
    "Hints: If the output received is in decimal form, it should be rounded off to its nearest value. For example, \n",
    "if the output received is 26.0, it should be printed as 26. In the case of input data being supplied to the\n",
    "question, it should be assumed to be a console input. '''\n",
    "\n"
   ]
  },
  {
   "cell_type": "code",
   "execution_count": null,
   "id": "147675bb",
   "metadata": {},
   "outputs": [],
   "source": []
  }
 ],
 "metadata": {
  "kernelspec": {
   "display_name": "Python 3 (ipykernel)",
   "language": "python",
   "name": "python3"
  },
  "language_info": {
   "codemirror_mode": {
    "name": "ipython",
    "version": 3
   },
   "file_extension": ".py",
   "mimetype": "text/x-python",
   "name": "python",
   "nbconvert_exporter": "python",
   "pygments_lexer": "ipython3",
   "version": "3.9.13"
  }
 },
 "nbformat": 4,
 "nbformat_minor": 5
}
