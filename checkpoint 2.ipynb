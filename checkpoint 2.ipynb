{
 "cells": [
  {
   "cell_type": "code",
   "execution_count": 8,
   "id": "9da7e68b",
   "metadata": {},
   "outputs": [
    {
     "name": "stdout",
     "output_type": "stream",
     "text": [
      "entrez votre nomhalima\n",
      "entrez votre prenomelhagouchi\n"
     ]
    },
    {
     "data": {
      "text/plain": [
       "'halima elhagouchi'"
      ]
     },
     "execution_count": 8,
     "metadata": {},
     "output_type": "execute_result"
    }
   ],
   "source": [
    "#q1\n",
    "def q1(first_name,last_name):\n",
    "    return first_name+\" \"+last_name\n",
    "\n",
    "\n",
    "x=input(\"entrez votre nom\")\n",
    "y=input(\"entrez votre prenom\")\n",
    "q1(x,y)"
   ]
  },
  {
   "cell_type": "code",
   "execution_count": 17,
   "id": "f83eafba",
   "metadata": {},
   "outputs": [
    {
     "name": "stdout",
     "output_type": "stream",
     "text": [
      "write a number6\n",
      "its a even number\n"
     ]
    }
   ],
   "source": [
    "#Q3\n",
    "def type(n):\n",
    "    if n%2==0:\n",
    "        print('its a even number')\n",
    "    else:\n",
    "        print('its a odd number')\n",
    "    \n",
    "x=int(input('write a number'))\n",
    "type(x)\n",
    "    \n",
    "    "
   ]
  },
  {
   "cell_type": "code",
   "execution_count": null,
   "id": "3b2b260a",
   "metadata": {},
   "outputs": [],
   "source": [
    "#q4\n",
    "def numbers(n):\n",
    "    S=[]\n",
    "    for  n in range(2000,3201):\n",
    "        if n%7==0 and n%5!=0 :\n",
    "            S.append(i)\n",
    "            print(S(i))\n",
    "    else:\n",
    "        print('this number is not valide')\n",
    "\n",
    "x=int(input('write a number'))\n",
    "numbers(x)\n",
    "\n"
   ]
  },
  {
   "cell_type": "code",
   "execution_count": 6,
   "id": "d87d2b6f",
   "metadata": {},
   "outputs": [
    {
     "name": "stdout",
     "output_type": "stream",
     "text": [
      "write a number3\n",
      "0\n",
      "3\n"
     ]
    }
   ],
   "source": [
    "#Q5\n",
    "def factory(n):\n",
    "    result = 1\n",
    "    if n==0 or n==1 :\n",
    "        print(1)\n",
    "    else:\n",
    "        for i in range(n,1,-1):\n",
    "            result=result*i\n",
    "    return result\n",
    "x=int(input('write a number'))\n",
    "factory(x) "
   ]
  },
  {
   "cell_type": "code",
   "execution_count": 12,
   "id": "809aae12",
   "metadata": {},
   "outputs": [
    {
     "name": "stdout",
     "output_type": "stream",
     "text": [
      "write a stringhalima\n"
     ]
    },
    {
     "ename": "UnboundLocalError",
     "evalue": "local variable 'i' referenced before assignment",
     "output_type": "error",
     "traceback": [
      "\u001b[1;31m---------------------------------------------------------------------------\u001b[0m",
      "\u001b[1;31mUnboundLocalError\u001b[0m                         Traceback (most recent call last)",
      "\u001b[1;32m~\\AppData\\Local\\Temp\\ipykernel_5580\\3426294518.py\u001b[0m in \u001b[0;36m<module>\u001b[1;34m\u001b[0m\n\u001b[0;32m      8\u001b[0m \u001b[1;33m\u001b[0m\u001b[0m\n\u001b[0;32m      9\u001b[0m \u001b[0mx\u001b[0m\u001b[1;33m=\u001b[0m\u001b[0mstr\u001b[0m\u001b[1;33m(\u001b[0m\u001b[0minput\u001b[0m\u001b[1;33m(\u001b[0m\u001b[1;34m'write a string'\u001b[0m\u001b[1;33m)\u001b[0m\u001b[1;33m)\u001b[0m\u001b[1;33m\u001b[0m\u001b[1;33m\u001b[0m\u001b[0m\n\u001b[1;32m---> 10\u001b[1;33m \u001b[0mcaracter\u001b[0m\u001b[1;33m(\u001b[0m\u001b[0mx\u001b[0m\u001b[1;33m)\u001b[0m\u001b[1;33m\u001b[0m\u001b[1;33m\u001b[0m\u001b[0m\n\u001b[0m\u001b[0;32m     11\u001b[0m \u001b[1;33m\u001b[0m\u001b[0m\n",
      "\u001b[1;32m~\\AppData\\Local\\Temp\\ipykernel_5580\\3426294518.py\u001b[0m in \u001b[0;36mcaracter\u001b[1;34m(n)\u001b[0m\n\u001b[0;32m      2\u001b[0m \u001b[1;32mdef\u001b[0m \u001b[0mcaracter\u001b[0m\u001b[1;33m(\u001b[0m\u001b[0mn\u001b[0m\u001b[1;33m)\u001b[0m\u001b[1;33m:\u001b[0m\u001b[1;33m\u001b[0m\u001b[1;33m\u001b[0m\u001b[0m\n\u001b[0;32m      3\u001b[0m \u001b[1;33m\u001b[0m\u001b[0m\n\u001b[1;32m----> 4\u001b[1;33m         \u001b[1;32mif\u001b[0m \u001b[0mi\u001b[0m\u001b[1;33m%\u001b[0m\u001b[1;36m2\u001b[0m\u001b[1;33m==\u001b[0m\u001b[1;36m0\u001b[0m \u001b[1;33m:\u001b[0m\u001b[1;33m\u001b[0m\u001b[1;33m\u001b[0m\u001b[0m\n\u001b[0m\u001b[0;32m      5\u001b[0m             \u001b[1;32mfor\u001b[0m \u001b[0mi\u001b[0m \u001b[1;32min\u001b[0m \u001b[0mrange\u001b[0m\u001b[1;33m(\u001b[0m\u001b[1;36m0\u001b[0m\u001b[1;33m,\u001b[0m\u001b[0mlen\u001b[0m\u001b[1;33m(\u001b[0m\u001b[0mn\u001b[0m\u001b[1;33m)\u001b[0m\u001b[1;33m)\u001b[0m\u001b[1;33m:\u001b[0m\u001b[1;33m\u001b[0m\u001b[1;33m\u001b[0m\u001b[0m\n\u001b[0;32m      6\u001b[0m                 \u001b[0mprint\u001b[0m\u001b[1;33m(\u001b[0m\u001b[0mn\u001b[0m\u001b[1;33m[\u001b[0m\u001b[0mi\u001b[0m\u001b[1;33m]\u001b[0m\u001b[1;33m)\u001b[0m\u001b[1;33m\u001b[0m\u001b[1;33m\u001b[0m\u001b[0m\n",
      "\u001b[1;31mUnboundLocalError\u001b[0m: local variable 'i' referenced before assignment"
     ]
    }
   ],
   "source": [
    "#q6\n",
    "def caracter(n):\n",
    "    re = \"\"\n",
    "    for i in range(0,len(n)):\n",
    "        if i%2==0 :\n",
    "            re = re+n[i]\n",
    "    return re\n",
    "    \n",
    "x=str(input('write a string'))\n",
    "caracter(x)"
   ]
  },
  {
   "cell_type": "code",
   "execution_count": 18,
   "id": "969f4ebb",
   "metadata": {},
   "outputs": [
    {
     "ename": "SyntaxError",
     "evalue": "invalid syntax (2286882602.py, line 6)",
     "output_type": "error",
     "traceback": [
      "\u001b[1;36m  File \u001b[1;32m\"C:\\Users\\LENOVO\\AppData\\Local\\Temp\\ipykernel_5580\\2286882602.py\"\u001b[1;36m, line \u001b[1;32m6\u001b[0m\n\u001b[1;33m    elif n>=200 && n<500:\u001b[0m\n\u001b[1;37m                 ^\u001b[0m\n\u001b[1;31mSyntaxError\u001b[0m\u001b[1;31m:\u001b[0m invalid syntax\n"
     ]
    }
   ],
   "source": [
    "#Q7\n",
    "def discount(n):\n",
    "    if n>=500:\n",
    "        new_price=n-n*(50/100)\n",
    "        print(new_price)\n",
    "    elif n>=200 and n<500:\n",
    "        new_price=n-n*(30/100)\n",
    "        print(new_price)\n",
    "    else :\n",
    "        new_price=n-n*(10/100)\n",
    "        print(new_price)\n",
    "    \n",
    "\n",
    "x=int(input('write a number'))\n",
    "discount(x) \n"
   ]
  },
  {
   "cell_type": "code",
   "execution_count": null,
   "id": "57d93c15",
   "metadata": {},
   "outputs": [],
   "source": [
    "#Q2\n",
    "n = 5\n",
    "int(str(n)*3)+int(str(n)*2)+n\n"
   ]
  }
 ],
 "metadata": {
  "kernelspec": {
   "display_name": "Python 3 (ipykernel)",
   "language": "python",
   "name": "python3"
  },
  "language_info": {
   "codemirror_mode": {
    "name": "ipython",
    "version": 3
   },
   "file_extension": ".py",
   "mimetype": "text/x-python",
   "name": "python",
   "nbconvert_exporter": "python",
   "pygments_lexer": "ipython3",
   "version": "3.9.13"
  }
 },
 "nbformat": 4,
 "nbformat_minor": 5
}
