{
 "cells": [
  {
   "cell_type": "code",
   "execution_count": 1,
   "id": "fe6be205",
   "metadata": {},
   "outputs": [
    {
     "name": "stdout",
     "output_type": "stream",
     "text": [
      "Blu is a bird\n",
      "Woo is also a bird\n",
      "Blu is 10 years old\n",
      "Woo is 15 years old\n"
     ]
    }
   ],
   "source": [
    "class Parrot:\n",
    "    # class attribute\n",
    "    species = \"bird\"\n",
    "\n",
    "    # instance attribute\n",
    "    def __init__(self, name, age):\n",
    "        self.name = name\n",
    "        self.age = age\n",
    "\n",
    "# instantiate the Parrot class\n",
    "blu = Parrot(\"Blu\", 10)\n",
    "woo = Parrot(\"Woo\", 15)\n",
    "\n",
    "# access the class attributes\n",
    "print(\"Blu is a {}\".format(blu.__class__.species))\n",
    "print(\"Woo is also a {}\".format(woo.__class__.species))\n",
    "\n",
    "# access the instance attributes\n",
    "print(\"{} is {} years old\".format( blu.name, blu.age))\n",
    "print(\"{} is {} years old\".format( woo.name, woo.age))"
   ]
  },
  {
   "cell_type": "code",
   "execution_count": 3,
   "id": "08bd4742",
   "metadata": {},
   "outputs": [
    {
     "ename": "IndentationError",
     "evalue": "expected an indented block (1403648918.py, line 17)",
     "output_type": "error",
     "traceback": [
      "\u001b[1;36m  File \u001b[1;32m\"C:\\Users\\LENOVO\\AppData\\Local\\Temp\\ipykernel_6732\\1403648918.py\"\u001b[1;36m, line \u001b[1;32m17\u001b[0m\n\u001b[1;33m    def __init__(self):\u001b[0m\n\u001b[1;37m    ^\u001b[0m\n\u001b[1;31mIndentationError\u001b[0m\u001b[1;31m:\u001b[0m expected an indented block\n"
     ]
    }
   ],
   "source": [
    "# parent class\n",
    "class Bird:\n",
    "    \n",
    "    def __init__(self):\n",
    "        print(\"Bird is ready\")\n",
    "\n",
    "    def whoisThis(self):\n",
    "        print(\"Bird\")\n",
    "\n",
    "\n",
    "def swim(self):\n",
    "    print(\"Swim faster\")\n",
    "\n",
    "# child class\n",
    "class Penguin(Bird):\n",
    "\n",
    "def __init__(self):\n",
    "# call super() function\n",
    "    super().__init__()\n",
    "    print(\"Penguin is ready\")\n",
    "\n",
    "def whoisThis(self):\n",
    "    print(\"Penguin\")\n",
    "\n",
    "def run(self):\n",
    "    print(\"Run faster\")\n",
    "\n",
    "peggy = Penguin()\n",
    "peggy.whoisThis()\n",
    "peggy.swim()\n",
    "peggy.run()\n"
   ]
  },
  {
   "cell_type": "code",
   "execution_count": 10,
   "id": "c0cf87e1",
   "metadata": {},
   "outputs": [
    {
     "name": "stdout",
     "output_type": "stream",
     "text": [
      "La valeur de str est :  Welcome to WayToLearnX!\n"
     ]
    }
   ],
   "source": [
    "class Person: \n",
    "    # créer une variable\n",
    "    str = \"Welcome to WayToLearnX!\"\n",
    "      \n",
    "    # créer une fonction\n",
    "    def show(obj): \n",
    "        print(\"La valeur de str est : \", obj.str)\n",
    "#Person.show = classmethod(Person.show) \n",
    "# maintenant cette méthode peut être appelée comme classmethod \n",
    "# la méthode show() est appelée une méthode de classe\n",
    "p = Person()\n",
    "p.show()\n",
    "  '''\n",
    "  Person.show = classmethod(Person.show) \n",
    "# maintenant cette méthode peut être appelée comme classmethod \n",
    "# la méthode show() est appelée une méthode de classe\n",
    "Person.show()\n",
    "  '''"
   ]
  },
  {
   "cell_type": "code",
   "execution_count": 13,
   "id": "a21c8d53",
   "metadata": {},
   "outputs": [
    {
     "data": {
      "text/plain": [
       "{'g': 2, 'o': 2, 'l': 1, 'e': 1}"
      ]
     },
     "execution_count": 13,
     "metadata": {},
     "output_type": "execute_result"
    }
   ],
   "source": [
    "def caracters(str1):\n",
    "    dic={}\n",
    "    for i in str1:\n",
    "        key=dic.keys()\n",
    "        if i in key:\n",
    "            dic[i]+=1\n",
    "        else:\n",
    "            dic[i]=1\n",
    "    return dic\n",
    "caracters('google')\n",
    "        "
   ]
  },
  {
   "cell_type": "code",
   "execution_count": 12,
   "id": "85d4590c",
   "metadata": {},
   "outputs": [
    {
     "name": "stdout",
     "output_type": "stream",
     "text": [
      "True\n"
     ]
    }
   ],
   "source": [
    "class Person(object):\n",
    "    def __init__(self, name, age):\n",
    "        self.name = name\n",
    "        self.age = age\n",
    "    @classmethod\n",
    "    def get_person(cls, name):\n",
    "        return cls(name, \"\")\n",
    "        \n",
    "    @staticmethod  \n",
    "    def validate_name(p_name):\n",
    "        return len(p_name) <= 20\n",
    "        \n",
    "        \n",
    "print (Person.validate_name(\"Alex Babtise\"))"
   ]
  },
  {
   "cell_type": "code",
   "execution_count": 14,
   "id": "57008ccc",
   "metadata": {},
   "outputs": [
    {
     "name": "stdout",
     "output_type": "stream",
     "text": [
      "(1, 2, 3)\n"
     ]
    }
   ],
   "source": [
    "'''\n",
    "Write a Python class named Point3D defined by x, y, and z. Define a method that returns (x, y ,z). \n",
    "This tells Python to represent this object in the following format: (x, y, z).\n",
    "Then create a variable named my_point \n",
    "containing a new instance of Point3D with x=1, y=2, and z=3 and print it.\n",
    "'''\n",
    "\n",
    "class Point3D:\n",
    "    \n",
    "    def __init__(self, x, y,z):\n",
    "        self.x = x\n",
    "        self.y = y\n",
    "        self.z = z\n",
    "\n",
    "\n",
    "    def __repr__(self):\n",
    "        return f\"({self.x}, {self.y}, {self.z})\"\n",
    "\n",
    "my_point = Point3D(1, 2, 3)\n",
    "print(my_point)\n",
    "\n"
   ]
  },
  {
   "cell_type": "code",
   "execution_count": 18,
   "id": "ade74c23",
   "metadata": {},
   "outputs": [
    {
     "name": "stdout",
     "output_type": "stream",
     "text": [
      "Area:  12\n",
      "Perimeter:  14\n"
     ]
    }
   ],
   "source": [
    "'''\n",
    "Write a Python class named Rectangle constructed by a length and width.\n",
    "Define two methods, area and perimeter, which will compute the area and the perimeter of the rectangle.\n",
    "Then create a variable named my_rectangle containing a new instance of Rectangle with width=3 and length = 4 \n",
    "and compute both area and perimeter \n",
    "( the area is expected to be 3*4=12 and perimeter 2*(3+4)=14).\n",
    "'''\n",
    "class Rectangle:\n",
    "    \n",
    "    def __init__(self, length,width):\n",
    "        self.length =length\n",
    "        self.width= width\n",
    "        \n",
    "       \n",
    "    def area(self):\n",
    "        return self.length*self.width\n",
    "    def  perimeter(self):\n",
    "         return 2*(self.length+self.width)\n",
    "\n",
    "my_rectangle=Rectangle(4,3)\n",
    "print(\"Area: \", my_rectangle.area())\n",
    "print(\"Perimeter: \", my_rectangle.perimeter())\n",
    "\n",
    "\n"
   ]
  },
  {
   "cell_type": "code",
   "execution_count": 26,
   "id": "203a941a",
   "metadata": {},
   "outputs": [
    {
     "data": {
      "text/plain": [
       "True"
      ]
     },
     "execution_count": 26,
     "metadata": {},
     "output_type": "execute_result"
    }
   ],
   "source": [
    "'''\n",
    "Write a Python  class named Circle constructed by its center O and radius r. \n",
    "Define two methods, area and perimeter, which will compute the area and the perimeter of the circle,\n",
    "and is Inside() method which allows you to test whether a point A(x, y) \n",
    "belongs to the circle C(O, r) or not.\n",
    "\n",
    "'''\n",
    "import math\n",
    "class Circle:\n",
    "    \n",
    "    def __init__(self,x,y,r):\n",
    "        self.x =x\n",
    "        self.y =y\n",
    "        self.r=r\n",
    "    def area(self):#missa7a\n",
    "         return math.pi*(self.radius**2)\n",
    "    def  perimeter(self):#mo7it\n",
    "         return 2*math.pi*self.radius\n",
    "    def Inside(self,x,y):\n",
    "        if math.sqrt(x**2 + y**2)<=self.r:\n",
    "            return True\n",
    "        else: \n",
    "            return False\n",
    "p=Circle(0,0,4)\n",
    "p.Inside(1,2)\n"
   ]
  },
  {
   "cell_type": "code",
   "execution_count": 33,
   "id": "806ba4a1",
   "metadata": {},
   "outputs": [
    {
     "data": {
      "text/plain": [
       "'amount plus que balande'"
      ]
     },
     "execution_count": 33,
     "metadata": {},
     "output_type": "execute_result"
    }
   ],
   "source": [
    "'''\n",
    "Suppose we want to model a bank account with support for deposit and withdraw operations.\n",
    "Let’s create a Python class named Bank defined by its balance. Define two methods, deposit and withdraw, \n",
    "to compute the new amount of each operation.\n",
    "\n",
    "'''\n",
    "class bank:\n",
    "    \n",
    "    def __init__(self,balance):\n",
    "        self.balance=balance\n",
    "    def deposit(self,amount):\n",
    "        self.balance+=amount\n",
    "\n",
    "        return self.balance\n",
    "    def withdraw(self,amount):\n",
    "        if self.balance>=amount:\n",
    "            self.balance-=amount\n",
    "            return self.balance\n",
    "        else:\n",
    "            return \"amount plus que balande\"\n",
    "p=bank(300)\n",
    "p.deposit(3)\n",
    "p.withdraw(309)\n"
   ]
  },
  {
   "cell_type": "code",
   "execution_count": null,
   "id": "e7fb5c7f",
   "metadata": {},
   "outputs": [],
   "source": [
    "'''\n",
    "1 Create a class called \"Person\" with attributes \"name\" and \"age\". Add a method called \"greet\" that prints a greeting with the person's name.\n",
    "\n",
    "2 Create a class called \"Student\" that inherits from the \"Person\" class. Add a new attribute called \"student_id\" and a new method called \"study\" that prints \"Studying...\"\n",
    "\n",
    "3 Create a class called \"Teacher\" that inherits from the \"Person\" class. Add a new attribute called \"subject\" and a new method called \"teach\" that prints \"Teaching [subject]\"\n",
    "\n",
    "4 Create a class called \"Course\" with attributes \"name\" and \"max_students\". Add a method called \"add_student\" that adds a student object to a list of students and a method called \"remove_student\" that removes a student object from the list.\n",
    "\n",
    "5 Create a class called \"Department\" with a list of courses and a method called \"add_course\" that adds a course object to the list. Add a method called \"remove_course\" that removes a course object from the list.\n",
    "\n",
    "6 Create a class called \"University\" with a list of departments and a method called \"add_department\" that adds a department object to the list. Add a method called \"remove_department\" that removes a department object from the list.\n",
    "\n",
    "7 Create a class called \"Grade\" with attributes \"student\", \"course\", and \"grade_value\". Add a method called \"get_student_grade\" that returns the grade_value for a given student and course.\n",
    "\n",
    "8 Create a class called \"Library\" with a list of books. Add a method called \"checkout\" that allows a user to check out a book and a method called \"return\" that allows a user to return a book.\n",
    "\n",
    "9 Create a class called \"BankAccount\" with attributes \"balance\" and \"owner\". Add methods \"deposit\", \"withdraw\" and \"transfer\" that allow the user to manipulate the balance.\n",
    "\n",
    "10 Create a class called \"Car\" with attributes \"make\", \"model\", \"year\" and \"mileage\". Add a method called \"drive\" that updates the mileage and a method called \"repair\" that resets the mileage to 0.\n",
    "\n",
    "'''"
   ]
  },
  {
   "cell_type": "code",
   "execution_count": null,
   "id": "6886b89f",
   "metadata": {},
   "outputs": [],
   "source": []
  }
 ],
 "metadata": {
  "kernelspec": {
   "display_name": "Python 3 (ipykernel)",
   "language": "python",
   "name": "python3"
  },
  "language_info": {
   "codemirror_mode": {
    "name": "ipython",
    "version": 3
   },
   "file_extension": ".py",
   "mimetype": "text/x-python",
   "name": "python",
   "nbconvert_exporter": "python",
   "pygments_lexer": "ipython3",
   "version": "3.9.13"
  }
 },
 "nbformat": 4,
 "nbformat_minor": 5
}
