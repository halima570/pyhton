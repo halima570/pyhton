{
 "cells": [
  {
   "cell_type": "code",
   "execution_count": 1,
   "id": "731a7533",
   "metadata": {},
   "outputs": [
    {
     "name": "stdout",
     "output_type": "stream",
     "text": [
      "Enter first name: ajay\n",
      "Enter second name: preya\n",
      "Relationship status: Friends\n"
     ]
    }
   ],
   "source": [
    "def flames(name1, name2):\n",
    "    name1 = name1.upper()\n",
    "    name2 = name2.upper()\n",
    "    common = []\n",
    "    \n",
    "    for char in name1:\n",
    "        if char in name2:\n",
    "            common.append(char)\n",
    "            name2 = name2.replace(char, \"\", 1)\n",
    "    \n",
    "    for char in common:\n",
    "        name1 = name1.replace(char, \"\", 1)\n",
    "    \n",
    "    count=len(name1)+len(name2)\n",
    "    \n",
    "    flames_letters = [\"F\", \"L\", \"A\", \"M\", \"E\", \"S\"]\n",
    "    \n",
    "    while len(flames_letters) > 1:\n",
    "        if(count>len(flames_letters)):\n",
    "            pos = count % len(flames_letters)\n",
    "            flames_letters.pop(pos)\n",
    "        else:\n",
    "            flames_letters.pop(count-1)\n",
    "    \n",
    "    if flames_letters[0] == \"F\":\n",
    "        return \"Friends\"\n",
    "    elif flames_letters[0] == \"L\":\n",
    "        return \"Lovers\"\n",
    "    elif flames_letters[0] == \"A\":\n",
    "        return \"Affectionate\"\n",
    "    elif flames_letters[0] == \"M\":\n",
    "        return \"Marriage\"\n",
    "    elif flames_letters[0] == \"E\":\n",
    "        return \"Enemies\"\n",
    "    else:\n",
    "        return \"Siblings\"\n",
    "\n",
    "name1 = input(\"Enter first name: \")\n",
    "name2 = input(\"Enter second name: \")\n",
    "result = flames(name1, name2)\n",
    "print(\"Relationship status:\", result)"
   ]
  },
  {
   "cell_type": "code",
   "execution_count": null,
   "id": "42ab5391",
   "metadata": {},
   "outputs": [],
   "source": []
  }
 ],
 "metadata": {
  "kernelspec": {
   "display_name": "Python 3 (ipykernel)",
   "language": "python",
   "name": "python3"
  },
  "language_info": {
   "codemirror_mode": {
    "name": "ipython",
    "version": 3
   },
   "file_extension": ".py",
   "mimetype": "text/x-python",
   "name": "python",
   "nbconvert_exporter": "python",
   "pygments_lexer": "ipython3",
   "version": "3.9.13"
  }
 },
 "nbformat": 4,
 "nbformat_minor": 5
}
